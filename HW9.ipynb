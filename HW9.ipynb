{
 "cells": [
  {
   "cell_type": "code",
   "execution_count": 81,
   "metadata": {},
   "outputs": [
    {
     "name": "stdout",
     "output_type": "stream",
     "text": [
      "Accuracy for SVM Classifier: 99.3006993006993%\n",
      "Accuracy for Decision Tree Classifier: 95.8041958041958%\n",
      "Accuracy for RandomForest Classifier: 97.9020979020979%\n",
      "Accuracy for KNeighbors Classifier: 94.4055944055944%\n"
     ]
    }
   ],
   "source": [
    "from sklearn.datasets import load_breast_cancer\n",
    "from sklearn.metrics import accuracy_score\n",
    "from sklearn.model_selection import train_test_split\n",
    "from sklearn import svm\n",
    "from sklearn import tree\n",
    "from sklearn.neighbors import KNeighborsClassifier \n",
    "\n",
    "cancer = load_breast_cancer()\n",
    "X_train, X_test, y_train, y_test = train_test_split(cancer.data, cancer.target, stratify=cancer.target, random_state=40)\n",
    "\n",
    "svm = svm.SVC(gamma=0.001, C=100, kernel='linear')\n",
    "svm.fit(X_train, y_train)\n",
    "outsvm = svm.predict(X_test)\n",
    "\n",
    "dtree = DecisionTreeClassifier(max_depth=7, random_state=4)\n",
    "dtree.fit(X_train, y_train)\n",
    "outdt = dtree.predict(X_test)\n",
    "\n",
    "rftree = RandomForestClassifier(n_estimators=139, criterion=\"entropy\", random_state=0, max_depth=None, bootstrap=False)\n",
    "rftree.fit(X_train, y_train)\n",
    "outrf = rftree.predict(X_test)\n",
    "\n",
    "KNtree = KNeighborsClassifier(n_neighbors=5)\n",
    "KNtree.fit(X_train, y_train)\n",
    "outKN = KNtree.predict(X_test)\n",
    "\n",
    "# Prediction accuracy\n",
    "print(\"Accuracy for SVM Classifier: \" + str(accuracy_score(y_test, outsvm)*100)+\"%\")\n",
    "print(\"Accuracy for Decision Tree Classifier: \" + str(accuracy_score(y_test, outdt)*100)+\"%\")\n",
    "print(\"Accuracy for RandomForest Classifier: \" + str(accuracy_score(y_test, outrf)*100)+\"%\") \n",
    "print(\"Accuracy for KNeighbors Classifier: \" + str(accuracy_score(y_test, outKN)*100)+\"%\") "
   ]
  },
  {
   "cell_type": "code",
   "execution_count": null,
   "metadata": {},
   "outputs": [],
   "source": []
  }
 ],
 "metadata": {
  "kernelspec": {
   "display_name": "Python 3",
   "language": "python",
   "name": "python3"
  },
  "language_info": {
   "codemirror_mode": {
    "name": "ipython",
    "version": 3
   },
   "file_extension": ".py",
   "mimetype": "text/x-python",
   "name": "python",
   "nbconvert_exporter": "python",
   "pygments_lexer": "ipython3",
   "version": "3.5.4"
  }
 },
 "nbformat": 4,
 "nbformat_minor": 2
}
